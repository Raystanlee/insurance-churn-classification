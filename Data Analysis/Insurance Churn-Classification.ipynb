{
 "cells": [
  {
   "cell_type": "code",
   "execution_count": null,
   "id": "92b48809",
   "metadata": {},
   "outputs": [],
   "source": [
    "Insurance Churn Data - Classification Model"
   ]
  },
  {
   "cell_type": "code",
   "execution_count": 77,
   "id": "d1ae5ac5",
   "metadata": {},
   "outputs": [],
   "source": [
    "import pandas as pd\n",
    "import pylab as pl\n",
    "import numpy as np\n",
    "import scipy.optimize as opt\n",
    "import seaborn as sns\n",
    "from sklearn import preprocessing\n",
    "%matplotlib inline \n",
    "import matplotlib.pyplot as plt"
   ]
  },
  {
   "cell_type": "code",
   "execution_count": 52,
   "id": "7748ca05",
   "metadata": {},
   "outputs": [],
   "source": [
    "df = pd.read_excel(r\"C:\\Users\\Raymond\\Downloads\\Churn-Data.xlsx\")"
   ]
  },
  {
   "cell_type": "code",
   "execution_count": 53,
   "id": "8043ac44",
   "metadata": {},
   "outputs": [
    {
     "data": {
      "text/plain": [
       "Index(['memid', 'gender', 'isactive', 'maritalstatus', 'is_ppo',\n",
       "       'is_autorenewal', 'yearsenrolled', 'Age', 'claimsdenied', 'grievances',\n",
       "       'Churned?', 'Unnamed: 11', 'Unnamed: 12'],\n",
       "      dtype='object')"
      ]
     },
     "execution_count": 53,
     "metadata": {},
     "output_type": "execute_result"
    }
   ],
   "source": [
    "df.columns"
   ]
  },
  {
   "cell_type": "code",
   "execution_count": 54,
   "id": "eb6b87a8",
   "metadata": {},
   "outputs": [],
   "source": [
    "df = df.drop(['Unnamed: 11', 'Unnamed: 12'], axis = 1)"
   ]
  },
  {
   "cell_type": "code",
   "execution_count": 55,
   "id": "de252b91",
   "metadata": {},
   "outputs": [],
   "source": [
    "df.rename(columns={'Churned?':'Churn'}, inplace = True )"
   ]
  },
  {
   "cell_type": "code",
   "execution_count": 56,
   "id": "34047842",
   "metadata": {
    "scrolled": true
   },
   "outputs": [
    {
     "data": {
      "text/html": [
       "<div>\n",
       "<style scoped>\n",
       "    .dataframe tbody tr th:only-of-type {\n",
       "        vertical-align: middle;\n",
       "    }\n",
       "\n",
       "    .dataframe tbody tr th {\n",
       "        vertical-align: top;\n",
       "    }\n",
       "\n",
       "    .dataframe thead th {\n",
       "        text-align: right;\n",
       "    }\n",
       "</style>\n",
       "<table border=\"1\" class=\"dataframe\">\n",
       "  <thead>\n",
       "    <tr style=\"text-align: right;\">\n",
       "      <th></th>\n",
       "      <th>memid</th>\n",
       "      <th>gender</th>\n",
       "      <th>isactive</th>\n",
       "      <th>maritalstatus</th>\n",
       "      <th>is_ppo</th>\n",
       "      <th>is_autorenewal</th>\n",
       "      <th>yearsenrolled</th>\n",
       "      <th>Age</th>\n",
       "      <th>claimsdenied</th>\n",
       "      <th>grievances</th>\n",
       "      <th>Churn</th>\n",
       "    </tr>\n",
       "  </thead>\n",
       "  <tbody>\n",
       "    <tr>\n",
       "      <th>0</th>\n",
       "      <td>AMXM00000058356</td>\n",
       "      <td>M</td>\n",
       "      <td>no</td>\n",
       "      <td>no</td>\n",
       "      <td>yes</td>\n",
       "      <td>no</td>\n",
       "      <td>1</td>\n",
       "      <td>26</td>\n",
       "      <td>3</td>\n",
       "      <td>1</td>\n",
       "      <td>yes</td>\n",
       "    </tr>\n",
       "    <tr>\n",
       "      <th>1</th>\n",
       "      <td>AMXM00000058385</td>\n",
       "      <td>F</td>\n",
       "      <td>yes</td>\n",
       "      <td>no</td>\n",
       "      <td>yes</td>\n",
       "      <td>no</td>\n",
       "      <td>5</td>\n",
       "      <td>22</td>\n",
       "      <td>2</td>\n",
       "      <td>1</td>\n",
       "      <td>yes</td>\n",
       "    </tr>\n",
       "    <tr>\n",
       "      <th>2</th>\n",
       "      <td>AMXM00000058387</td>\n",
       "      <td>M</td>\n",
       "      <td>no</td>\n",
       "      <td>no</td>\n",
       "      <td>yes</td>\n",
       "      <td>no</td>\n",
       "      <td>2</td>\n",
       "      <td>33</td>\n",
       "      <td>1</td>\n",
       "      <td>1</td>\n",
       "      <td>yes</td>\n",
       "    </tr>\n",
       "    <tr>\n",
       "      <th>3</th>\n",
       "      <td>AMXM00000058389</td>\n",
       "      <td>F</td>\n",
       "      <td>yes</td>\n",
       "      <td>yes</td>\n",
       "      <td>yes</td>\n",
       "      <td>no</td>\n",
       "      <td>3</td>\n",
       "      <td>35</td>\n",
       "      <td>3</td>\n",
       "      <td>1</td>\n",
       "      <td>yes</td>\n",
       "    </tr>\n",
       "    <tr>\n",
       "      <th>4</th>\n",
       "      <td>AMXM00000058390</td>\n",
       "      <td>M</td>\n",
       "      <td>no</td>\n",
       "      <td>no</td>\n",
       "      <td>yes</td>\n",
       "      <td>no</td>\n",
       "      <td>3</td>\n",
       "      <td>12</td>\n",
       "      <td>4</td>\n",
       "      <td>1</td>\n",
       "      <td>yes</td>\n",
       "    </tr>\n",
       "  </tbody>\n",
       "</table>\n",
       "</div>"
      ],
      "text/plain": [
       "             memid gender isactive maritalstatus is_ppo is_autorenewal  \\\n",
       "0  AMXM00000058356      M       no            no    yes             no   \n",
       "1  AMXM00000058385      F      yes            no    yes             no   \n",
       "2  AMXM00000058387      M       no            no    yes             no   \n",
       "3  AMXM00000058389      F      yes           yes    yes             no   \n",
       "4  AMXM00000058390      M       no            no    yes             no   \n",
       "\n",
       "   yearsenrolled  Age  claimsdenied  grievances Churn  \n",
       "0              1   26             3           1   yes  \n",
       "1              5   22             2           1   yes  \n",
       "2              2   33             1           1   yes  \n",
       "3              3   35             3           1   yes  \n",
       "4              3   12             4           1   yes  "
      ]
     },
     "execution_count": 56,
     "metadata": {},
     "output_type": "execute_result"
    }
   ],
   "source": [
    "df.head()"
   ]
  },
  {
   "cell_type": "code",
   "execution_count": 75,
   "id": "c4fbc647",
   "metadata": {},
   "outputs": [
    {
     "data": {
      "text/plain": [
       "(498, 11)"
      ]
     },
     "execution_count": 75,
     "metadata": {},
     "output_type": "execute_result"
    }
   ],
   "source": [
    "df.shape"
   ]
  },
  {
   "cell_type": "code",
   "execution_count": 63,
   "id": "c62a82c4",
   "metadata": {},
   "outputs": [
    {
     "data": {
      "text/html": [
       "<div>\n",
       "<style scoped>\n",
       "    .dataframe tbody tr th:only-of-type {\n",
       "        vertical-align: middle;\n",
       "    }\n",
       "\n",
       "    .dataframe tbody tr th {\n",
       "        vertical-align: top;\n",
       "    }\n",
       "\n",
       "    .dataframe thead th {\n",
       "        text-align: right;\n",
       "    }\n",
       "</style>\n",
       "<table border=\"1\" class=\"dataframe\">\n",
       "  <thead>\n",
       "    <tr style=\"text-align: right;\">\n",
       "      <th></th>\n",
       "      <th>memid</th>\n",
       "      <th>gender</th>\n",
       "      <th>isactive</th>\n",
       "      <th>maritalstatus</th>\n",
       "      <th>is_ppo</th>\n",
       "      <th>is_autorenewal</th>\n",
       "      <th>yearsenrolled</th>\n",
       "      <th>Age</th>\n",
       "      <th>claimsdenied</th>\n",
       "      <th>grievances</th>\n",
       "      <th>Churn</th>\n",
       "    </tr>\n",
       "  </thead>\n",
       "  <tbody>\n",
       "    <tr>\n",
       "      <th>0</th>\n",
       "      <td>AMXM00000058356</td>\n",
       "      <td>0</td>\n",
       "      <td>no</td>\n",
       "      <td>no</td>\n",
       "      <td>yes</td>\n",
       "      <td>no</td>\n",
       "      <td>1</td>\n",
       "      <td>26</td>\n",
       "      <td>3</td>\n",
       "      <td>1</td>\n",
       "      <td>yes</td>\n",
       "    </tr>\n",
       "    <tr>\n",
       "      <th>1</th>\n",
       "      <td>AMXM00000058385</td>\n",
       "      <td>1</td>\n",
       "      <td>yes</td>\n",
       "      <td>no</td>\n",
       "      <td>yes</td>\n",
       "      <td>no</td>\n",
       "      <td>5</td>\n",
       "      <td>22</td>\n",
       "      <td>2</td>\n",
       "      <td>1</td>\n",
       "      <td>yes</td>\n",
       "    </tr>\n",
       "    <tr>\n",
       "      <th>2</th>\n",
       "      <td>AMXM00000058387</td>\n",
       "      <td>0</td>\n",
       "      <td>no</td>\n",
       "      <td>no</td>\n",
       "      <td>yes</td>\n",
       "      <td>no</td>\n",
       "      <td>2</td>\n",
       "      <td>33</td>\n",
       "      <td>1</td>\n",
       "      <td>1</td>\n",
       "      <td>yes</td>\n",
       "    </tr>\n",
       "    <tr>\n",
       "      <th>3</th>\n",
       "      <td>AMXM00000058389</td>\n",
       "      <td>1</td>\n",
       "      <td>yes</td>\n",
       "      <td>yes</td>\n",
       "      <td>yes</td>\n",
       "      <td>no</td>\n",
       "      <td>3</td>\n",
       "      <td>35</td>\n",
       "      <td>3</td>\n",
       "      <td>1</td>\n",
       "      <td>yes</td>\n",
       "    </tr>\n",
       "    <tr>\n",
       "      <th>4</th>\n",
       "      <td>AMXM00000058390</td>\n",
       "      <td>0</td>\n",
       "      <td>no</td>\n",
       "      <td>no</td>\n",
       "      <td>yes</td>\n",
       "      <td>no</td>\n",
       "      <td>3</td>\n",
       "      <td>12</td>\n",
       "      <td>4</td>\n",
       "      <td>1</td>\n",
       "      <td>yes</td>\n",
       "    </tr>\n",
       "  </tbody>\n",
       "</table>\n",
       "</div>"
      ],
      "text/plain": [
       "             memid  gender isactive maritalstatus is_ppo is_autorenewal  \\\n",
       "0  AMXM00000058356       0       no            no    yes             no   \n",
       "1  AMXM00000058385       1      yes            no    yes             no   \n",
       "2  AMXM00000058387       0       no            no    yes             no   \n",
       "3  AMXM00000058389       1      yes           yes    yes             no   \n",
       "4  AMXM00000058390       0       no            no    yes             no   \n",
       "\n",
       "   yearsenrolled  Age  claimsdenied  grievances Churn  \n",
       "0              1   26             3           1   yes  \n",
       "1              5   22             2           1   yes  \n",
       "2              2   33             1           1   yes  \n",
       "3              3   35             3           1   yes  \n",
       "4              3   12             4           1   yes  "
      ]
     },
     "execution_count": 63,
     "metadata": {},
     "output_type": "execute_result"
    }
   ],
   "source": [
    "df.head()"
   ]
  },
  {
   "cell_type": "code",
   "execution_count": 57,
   "id": "44513952",
   "metadata": {},
   "outputs": [
    {
     "name": "stdout",
     "output_type": "stream",
     "text": [
      "<class 'pandas.core.frame.DataFrame'>\n",
      "RangeIndex: 498 entries, 0 to 497\n",
      "Data columns (total 11 columns):\n",
      " #   Column          Non-Null Count  Dtype \n",
      "---  ------          --------------  ----- \n",
      " 0   memid           498 non-null    object\n",
      " 1   gender          498 non-null    object\n",
      " 2   isactive        498 non-null    object\n",
      " 3   maritalstatus   498 non-null    object\n",
      " 4   is_ppo          498 non-null    object\n",
      " 5   is_autorenewal  498 non-null    object\n",
      " 6   yearsenrolled   498 non-null    int64 \n",
      " 7   Age             498 non-null    int64 \n",
      " 8   claimsdenied    498 non-null    int64 \n",
      " 9   grievances      498 non-null    int64 \n",
      " 10  Churn           498 non-null    object\n",
      "dtypes: int64(4), object(7)\n",
      "memory usage: 42.9+ KB\n"
     ]
    }
   ],
   "source": [
    "df.info()"
   ]
  },
  {
   "cell_type": "code",
   "execution_count": 58,
   "id": "ae0efbf2",
   "metadata": {},
   "outputs": [
    {
     "name": "stdout",
     "output_type": "stream",
     "text": [
      "there are 0 duplicated rows in the dataframe.\n"
     ]
    }
   ],
   "source": [
    "#Checking for duplicate rows\n",
    "dupRows = df.duplicated().sum()\n",
    "print(\"there are \" + str(dupRows) + \" duplicated rows in the dataframe.\")"
   ]
  },
  {
   "cell_type": "code",
   "execution_count": 59,
   "id": "b0a6ffd3",
   "metadata": {},
   "outputs": [],
   "source": [
    "def missing_zero_values_table(df):\n",
    "        zero_val = (df == 0.00).astype(int).sum(axis=0)\n",
    "        mis_val = df.isnull().sum()\n",
    "        mis_val_percent = 100 * df.isnull().sum() / len(df)\n",
    "        mz_table = pd.concat([zero_val, mis_val, mis_val_percent], axis=1)\n",
    "        mz_table = mz_table.rename(\n",
    "        columns = {0 : 'Zero Values', 1 : 'Missing Values', 2 : '% of Total Values'})\n",
    "        mz_table['Total Zero Missing Values'] = mz_table['Zero Values'] + mz_table['Missing Values']\n",
    "        mz_table['% Total Zero Missing Values'] = 100 * mz_table['Total Zero Missing Values'] / len(df)\n",
    "        mz_table['Data Type'] = df.dtypes\n",
    "        mz_table = mz_table[\n",
    "            mz_table.iloc[:,1] != 0].sort_values(\n",
    "        '% of Total Values', ascending=False).round(1)\n",
    "        print (\"Your selected dataframe has \" + str(df.shape[1]) + \" columns and \" + str(df.shape[0]) + \" Rows.\\n\"      \n",
    "            \"There are \" + str(mz_table.shape[0]) +\n",
    "              \" columns that have missing values.\")\n",
    "        return mz_table"
   ]
  },
  {
   "cell_type": "code",
   "execution_count": 60,
   "id": "f3f8e654",
   "metadata": {},
   "outputs": [
    {
     "name": "stdout",
     "output_type": "stream",
     "text": [
      "Your selected dataframe has 11 columns and 498 Rows.\n",
      "There are 0 columns that have missing values.\n"
     ]
    },
    {
     "data": {
      "text/html": [
       "<div>\n",
       "<style scoped>\n",
       "    .dataframe tbody tr th:only-of-type {\n",
       "        vertical-align: middle;\n",
       "    }\n",
       "\n",
       "    .dataframe tbody tr th {\n",
       "        vertical-align: top;\n",
       "    }\n",
       "\n",
       "    .dataframe thead th {\n",
       "        text-align: right;\n",
       "    }\n",
       "</style>\n",
       "<table border=\"1\" class=\"dataframe\">\n",
       "  <thead>\n",
       "    <tr style=\"text-align: right;\">\n",
       "      <th></th>\n",
       "      <th>Zero Values</th>\n",
       "      <th>Missing Values</th>\n",
       "      <th>% of Total Values</th>\n",
       "      <th>Total Zero Missing Values</th>\n",
       "      <th>% Total Zero Missing Values</th>\n",
       "      <th>Data Type</th>\n",
       "    </tr>\n",
       "  </thead>\n",
       "  <tbody>\n",
       "  </tbody>\n",
       "</table>\n",
       "</div>"
      ],
      "text/plain": [
       "Empty DataFrame\n",
       "Columns: [Zero Values, Missing Values, % of Total Values, Total Zero Missing Values, % Total Zero Missing Values, Data Type]\n",
       "Index: []"
      ]
     },
     "execution_count": 60,
     "metadata": {},
     "output_type": "execute_result"
    }
   ],
   "source": [
    "missing_zero_values_table(df)"
   ]
  },
  {
   "cell_type": "markdown",
   "id": "aac27775",
   "metadata": {},
   "source": [
    "Exploring Categorical Variable\n"
   ]
  },
  {
   "cell_type": "code",
   "execution_count": 43,
   "id": "b6af75cc",
   "metadata": {},
   "outputs": [
    {
     "data": {
      "text/plain": [
       "yes    395\n",
       "no     103\n",
       "Name: is_ppo, dtype: int64"
      ]
     },
     "execution_count": 43,
     "metadata": {},
     "output_type": "execute_result"
    }
   ],
   "source": [
    "df['is_ppo'].value_counts()"
   ]
  },
  {
   "cell_type": "code",
   "execution_count": null,
   "id": "4edaaccc",
   "metadata": {},
   "outputs": [],
   "source": [
    "df['is_ppo'].value_counts()"
   ]
  },
  {
   "cell_type": "code",
   "execution_count": 73,
   "id": "3d068851",
   "metadata": {},
   "outputs": [
    {
     "data": {
      "text/html": [
       "<div>\n",
       "<style scoped>\n",
       "    .dataframe tbody tr th:only-of-type {\n",
       "        vertical-align: middle;\n",
       "    }\n",
       "\n",
       "    .dataframe tbody tr th {\n",
       "        vertical-align: top;\n",
       "    }\n",
       "\n",
       "    .dataframe thead th {\n",
       "        text-align: right;\n",
       "    }\n",
       "</style>\n",
       "<table border=\"1\" class=\"dataframe\">\n",
       "  <thead>\n",
       "    <tr style=\"text-align: right;\">\n",
       "      <th></th>\n",
       "      <th>is_ppo</th>\n",
       "      <th>Churn</th>\n",
       "    </tr>\n",
       "  </thead>\n",
       "  <tbody>\n",
       "    <tr>\n",
       "      <th>1</th>\n",
       "      <td>yes</td>\n",
       "      <td>395</td>\n",
       "    </tr>\n",
       "    <tr>\n",
       "      <th>0</th>\n",
       "      <td>no</td>\n",
       "      <td>103</td>\n",
       "    </tr>\n",
       "  </tbody>\n",
       "</table>\n",
       "</div>"
      ],
      "text/plain": [
       "  is_ppo  Churn\n",
       "1    yes    395\n",
       "0     no    103"
      ]
     },
     "execution_count": 73,
     "metadata": {},
     "output_type": "execute_result"
    }
   ],
   "source": [
    "Churn_PPO = df.groupby(['is_ppo'])['Churn'].count().reset_index().sort_values(by=\"Churn\",ascending=False)\n",
    "Churn_PPO"
   ]
  },
  {
   "cell_type": "code",
   "execution_count": 78,
   "id": "85bd4297",
   "metadata": {},
   "outputs": [
    {
     "data": {
      "text/plain": [
       "Text(0.5, 1.0, 'Number of churn by PPO')"
      ]
     },
     "execution_count": 78,
     "metadata": {},
     "output_type": "execute_result"
    },
    {
     "data": {
      "image/png": "[encoded data removed]",
      "text/plain": [
       "<Figure size 720x432 with 1 Axes>"
      ]
     },
     "metadata": {
      "needs_background": "light"
     },
     "output_type": "display_data"
    }
   ],
   "source": [
    "plt.figure(figsize=(10,6))\n",
    "sns.barplot(x = Churn_PPO['is_ppo'], y = Churn_PPO['Churn'])\n",
    "\n",
    "plt.xlabel('is_ppo')\n",
    "plt.ylabel(\"Churn\")\n",
    "plt.title(\"Number of churn by PPO\")"
   ]
  },
  {
   "cell_type": "code",
   "execution_count": 69,
   "id": "4ff0fc7c",
   "metadata": {},
   "outputs": [],
   "source": [
    "df['Churn'].replace(['no', 'yes'], [0, 1], inplace=True)"
   ]
  },
  {
   "cell_type": "code",
   "execution_count": 80,
   "id": "f04224d8",
   "metadata": {},
   "outputs": [],
   "source": [
    "#Converting categorical variable to numeric\n",
    "\n",
    "df['gender'].replace(['M', 'F'], [0, 1], inplace=True)\n",
    "df['isactive'].replace(['no', 'yes'], [0, 1], inplace=True)\n",
    "df['maritalstatus'].replace(['no', 'yes'], [0, 1], inplace=True)\n",
    "df['is_ppo'].replace(['no', 'yes'], [0, 1], inplace=True)\n",
    "df['is_autorenewal'].replace(['no', 'yes'], [0, 1], inplace=True)\n"
   ]
  },
  {
   "cell_type": "code",
   "execution_count": 83,
   "id": "5ecc7e84",
   "metadata": {
    "scrolled": true
   },
   "outputs": [
    {
     "data": {
      "text/html": [
       "<div>\n",
       "<style scoped>\n",
       "    .dataframe tbody tr th:only-of-type {\n",
       "        vertical-align: middle;\n",
       "    }\n",
       "\n",
       "    .dataframe tbody tr th {\n",
       "        vertical-align: top;\n",
       "    }\n",
       "\n",
       "    .dataframe thead th {\n",
       "        text-align: right;\n",
       "    }\n",
       "</style>\n",
       "<table border=\"1\" class=\"dataframe\">\n",
       "  <thead>\n",
       "    <tr style=\"text-align: right;\">\n",
       "      <th></th>\n",
       "      <th>memid</th>\n",
       "      <th>gender</th>\n",
       "      <th>isactive</th>\n",
       "      <th>maritalstatus</th>\n",
       "      <th>is_ppo</th>\n",
       "      <th>is_autorenewal</th>\n",
       "      <th>yearsenrolled</th>\n",
       "      <th>Age</th>\n",
       "      <th>claimsdenied</th>\n",
       "      <th>grievances</th>\n",
       "      <th>Churn</th>\n",
       "    </tr>\n",
       "  </thead>\n",
       "  <tbody>\n",
       "    <tr>\n",
       "      <th>0</th>\n",
       "      <td>AMXM00000058356</td>\n",
       "      <td>0</td>\n",
       "      <td>0</td>\n",
       "      <td>0</td>\n",
       "      <td>1</td>\n",
       "      <td>0</td>\n",
       "      <td>1</td>\n",
       "      <td>26</td>\n",
       "      <td>3</td>\n",
       "      <td>1</td>\n",
       "      <td>1</td>\n",
       "    </tr>\n",
       "    <tr>\n",
       "      <th>1</th>\n",
       "      <td>AMXM00000058385</td>\n",
       "      <td>1</td>\n",
       "      <td>1</td>\n",
       "      <td>0</td>\n",
       "      <td>1</td>\n",
       "      <td>0</td>\n",
       "      <td>5</td>\n",
       "      <td>22</td>\n",
       "      <td>2</td>\n",
       "      <td>1</td>\n",
       "      <td>1</td>\n",
       "    </tr>\n",
       "    <tr>\n",
       "      <th>2</th>\n",
       "      <td>AMXM00000058387</td>\n",
       "      <td>0</td>\n",
       "      <td>0</td>\n",
       "      <td>0</td>\n",
       "      <td>1</td>\n",
       "      <td>0</td>\n",
       "      <td>2</td>\n",
       "      <td>33</td>\n",
       "      <td>1</td>\n",
       "      <td>1</td>\n",
       "      <td>1</td>\n",
       "    </tr>\n",
       "    <tr>\n",
       "      <th>3</th>\n",
       "      <td>AMXM00000058389</td>\n",
       "      <td>1</td>\n",
       "      <td>1</td>\n",
       "      <td>1</td>\n",
       "      <td>1</td>\n",
       "      <td>0</td>\n",
       "      <td>3</td>\n",
       "      <td>35</td>\n",
       "      <td>3</td>\n",
       "      <td>1</td>\n",
       "      <td>1</td>\n",
       "    </tr>\n",
       "    <tr>\n",
       "      <th>4</th>\n",
       "      <td>AMXM00000058390</td>\n",
       "      <td>0</td>\n",
       "      <td>0</td>\n",
       "      <td>0</td>\n",
       "      <td>1</td>\n",
       "      <td>0</td>\n",
       "      <td>3</td>\n",
       "      <td>12</td>\n",
       "      <td>4</td>\n",
       "      <td>1</td>\n",
       "      <td>1</td>\n",
       "    </tr>\n",
       "  </tbody>\n",
       "</table>\n",
       "</div>"
      ],
      "text/plain": [
       "             memid  gender  isactive  maritalstatus  is_ppo  is_autorenewal  \\\n",
       "0  AMXM00000058356       0         0              0       1               0   \n",
       "1  AMXM00000058385       1         1              0       1               0   \n",
       "2  AMXM00000058387       0         0              0       1               0   \n",
       "3  AMXM00000058389       1         1              1       1               0   \n",
       "4  AMXM00000058390       0         0              0       1               0   \n",
       "\n",
       "   yearsenrolled  Age  claimsdenied  grievances  Churn  \n",
       "0              1   26             3           1      1  \n",
       "1              5   22             2           1      1  \n",
       "2              2   33             1           1      1  \n",
       "3              3   35             3           1      1  \n",
       "4              3   12             4           1      1  "
      ]
     },
     "execution_count": 83,
     "metadata": {},
     "output_type": "execute_result"
    }
   ],
   "source": [
    "df.head()"
   ]
  },
  {
   "cell_type": "code",
   "execution_count": 85,
   "id": "f1162520",
   "metadata": {},
   "outputs": [
    {
     "data": {
      "text/html": [
       "<div>\n",
       "<style scoped>\n",
       "    .dataframe tbody tr th:only-of-type {\n",
       "        vertical-align: middle;\n",
       "    }\n",
       "\n",
       "    .dataframe tbody tr th {\n",
       "        vertical-align: top;\n",
       "    }\n",
       "\n",
       "    .dataframe thead th {\n",
       "        text-align: right;\n",
       "    }\n",
       "</style>\n",
       "<table border=\"1\" class=\"dataframe\">\n",
       "  <thead>\n",
       "    <tr style=\"text-align: right;\">\n",
       "      <th></th>\n",
       "      <th>gender</th>\n",
       "      <th>isactive</th>\n",
       "      <th>maritalstatus</th>\n",
       "      <th>is_ppo</th>\n",
       "      <th>is_autorenewal</th>\n",
       "      <th>yearsenrolled</th>\n",
       "      <th>Age</th>\n",
       "      <th>claimsdenied</th>\n",
       "      <th>grievances</th>\n",
       "      <th>Churn</th>\n",
       "    </tr>\n",
       "  </thead>\n",
       "  <tbody>\n",
       "    <tr>\n",
       "      <th>gender</th>\n",
       "      <td>1.000000</td>\n",
       "      <td>-0.000188</td>\n",
       "      <td>-0.104772</td>\n",
       "      <td>0.112943</td>\n",
       "      <td>-0.032209</td>\n",
       "      <td>-0.050998</td>\n",
       "      <td>-0.012018</td>\n",
       "      <td>0.019809</td>\n",
       "      <td>0.067045</td>\n",
       "      <td>-0.111214</td>\n",
       "    </tr>\n",
       "    <tr>\n",
       "      <th>isactive</th>\n",
       "      <td>-0.000188</td>\n",
       "      <td>1.000000</td>\n",
       "      <td>0.113795</td>\n",
       "      <td>-0.117398</td>\n",
       "      <td>0.563555</td>\n",
       "      <td>0.043768</td>\n",
       "      <td>0.119949</td>\n",
       "      <td>-0.509914</td>\n",
       "      <td>-0.497313</td>\n",
       "      <td>-0.104839</td>\n",
       "    </tr>\n",
       "    <tr>\n",
       "      <th>maritalstatus</th>\n",
       "      <td>-0.104772</td>\n",
       "      <td>0.113795</td>\n",
       "      <td>1.000000</td>\n",
       "      <td>0.003355</td>\n",
       "      <td>0.044841</td>\n",
       "      <td>0.095589</td>\n",
       "      <td>0.048430</td>\n",
       "      <td>-0.025335</td>\n",
       "      <td>-0.047118</td>\n",
       "      <td>-0.276539</td>\n",
       "    </tr>\n",
       "    <tr>\n",
       "      <th>is_ppo</th>\n",
       "      <td>0.112943</td>\n",
       "      <td>-0.117398</td>\n",
       "      <td>0.003355</td>\n",
       "      <td>1.000000</td>\n",
       "      <td>-0.080240</td>\n",
       "      <td>-0.112861</td>\n",
       "      <td>-0.184057</td>\n",
       "      <td>0.071650</td>\n",
       "      <td>0.062791</td>\n",
       "      <td>-0.430668</td>\n",
       "    </tr>\n",
       "    <tr>\n",
       "      <th>is_autorenewal</th>\n",
       "      <td>-0.032209</td>\n",
       "      <td>0.563555</td>\n",
       "      <td>0.044841</td>\n",
       "      <td>-0.080240</td>\n",
       "      <td>1.000000</td>\n",
       "      <td>0.055009</td>\n",
       "      <td>0.118508</td>\n",
       "      <td>-0.821455</td>\n",
       "      <td>-0.764714</td>\n",
       "      <td>-0.036525</td>\n",
       "    </tr>\n",
       "    <tr>\n",
       "      <th>yearsenrolled</th>\n",
       "      <td>-0.050998</td>\n",
       "      <td>0.043768</td>\n",
       "      <td>0.095589</td>\n",
       "      <td>-0.112861</td>\n",
       "      <td>0.055009</td>\n",
       "      <td>1.000000</td>\n",
       "      <td>-0.015771</td>\n",
       "      <td>-0.018193</td>\n",
       "      <td>-0.035774</td>\n",
       "      <td>-0.046893</td>\n",
       "    </tr>\n",
       "    <tr>\n",
       "      <th>Age</th>\n",
       "      <td>-0.012018</td>\n",
       "      <td>0.119949</td>\n",
       "      <td>0.048430</td>\n",
       "      <td>-0.184057</td>\n",
       "      <td>0.118508</td>\n",
       "      <td>-0.015771</td>\n",
       "      <td>1.000000</td>\n",
       "      <td>-0.091787</td>\n",
       "      <td>-0.085848</td>\n",
       "      <td>0.108147</td>\n",
       "    </tr>\n",
       "    <tr>\n",
       "      <th>claimsdenied</th>\n",
       "      <td>0.019809</td>\n",
       "      <td>-0.509914</td>\n",
       "      <td>-0.025335</td>\n",
       "      <td>0.071650</td>\n",
       "      <td>-0.821455</td>\n",
       "      <td>-0.018193</td>\n",
       "      <td>-0.091787</td>\n",
       "      <td>1.000000</td>\n",
       "      <td>0.770355</td>\n",
       "      <td>-0.008496</td>\n",
       "    </tr>\n",
       "    <tr>\n",
       "      <th>grievances</th>\n",
       "      <td>0.067045</td>\n",
       "      <td>-0.497313</td>\n",
       "      <td>-0.047118</td>\n",
       "      <td>0.062791</td>\n",
       "      <td>-0.764714</td>\n",
       "      <td>-0.035774</td>\n",
       "      <td>-0.085848</td>\n",
       "      <td>0.770355</td>\n",
       "      <td>1.000000</td>\n",
       "      <td>-0.046799</td>\n",
       "    </tr>\n",
       "    <tr>\n",
       "      <th>Churn</th>\n",
       "      <td>-0.111214</td>\n",
       "      <td>-0.104839</td>\n",
       "      <td>-0.276539</td>\n",
       "      <td>-0.430668</td>\n",
       "      <td>-0.036525</td>\n",
       "      <td>-0.046893</td>\n",
       "      <td>0.108147</td>\n",
       "      <td>-0.008496</td>\n",
       "      <td>-0.046799</td>\n",
       "      <td>1.000000</td>\n",
       "    </tr>\n",
       "  </tbody>\n",
       "</table>\n",
       "</div>"
      ],
      "text/plain": [
       "                  gender  isactive  maritalstatus    is_ppo  is_autorenewal  \\\n",
       "gender          1.000000 -0.000188      -0.104772  0.112943       -0.032209   \n",
       "isactive       -0.000188  1.000000       0.113795 -0.117398        0.563555   \n",
       "maritalstatus  -0.104772  0.113795       1.000000  0.003355        0.044841   \n",
       "is_ppo          0.112943 -0.117398       0.003355  1.000000       -0.080240   \n",
       "is_autorenewal -0.032209  0.563555       0.044841 -0.080240        1.000000   \n",
       "yearsenrolled  -0.050998  0.043768       0.095589 -0.112861        0.055009   \n",
       "Age            -0.012018  0.119949       0.048430 -0.184057        0.118508   \n",
       "claimsdenied    0.019809 -0.509914      -0.025335  0.071650       -0.821455   \n",
       "grievances      0.067045 -0.497313      -0.047118  0.062791       -0.764714   \n",
       "Churn          -0.111214 -0.104839      -0.276539 -0.430668       -0.036525   \n",
       "\n",
       "                yearsenrolled       Age  claimsdenied  grievances     Churn  \n",
       "gender              -0.050998 -0.012018      0.019809    0.067045 -0.111214  \n",
       "isactive             0.043768  0.119949     -0.509914   -0.497313 -0.104839  \n",
       "maritalstatus        0.095589  0.048430     -0.025335   -0.047118 -0.276539  \n",
       "is_ppo              -0.112861 -0.184057      0.071650    0.062791 -0.430668  \n",
       "is_autorenewal       0.055009  0.118508     -0.821455   -0.764714 -0.036525  \n",
       "yearsenrolled        1.000000 -0.015771     -0.018193   -0.035774 -0.046893  \n",
       "Age                 -0.015771  1.000000     -0.091787   -0.085848  0.108147  \n",
       "claimsdenied        -0.018193 -0.091787      1.000000    0.770355 -0.008496  \n",
       "grievances          -0.035774 -0.085848      0.770355    1.000000 -0.046799  \n",
       "Churn               -0.046893  0.108147     -0.008496   -0.046799  1.000000  "
      ]
     },
     "execution_count": 85,
     "metadata": {},
     "output_type": "execute_result"
    }
   ],
   "source": [
    "df.corr()"
   ]
  },
  {
   "cell_type": "code",
   "execution_count": 112,
   "id": "3a07c285",
   "metadata": {},
   "outputs": [],
   "source": [
    "X = df[['is_ppo', 'maritalstatus', 'Age']].values.tolist()"
   ]
  },
  {
   "cell_type": "code",
   "execution_count": 113,
   "id": "06ced1a9",
   "metadata": {},
   "outputs": [
    {
     "data": {
      "text/plain": [
       "array([[ 0.51, -0.49, -0.74],\n",
       "       [ 0.51, -0.49, -0.95],\n",
       "       [ 0.51, -0.49, -0.36],\n",
       "       [ 0.51,  2.02, -0.25],\n",
       "       [ 0.51, -0.49, -1.49]])"
      ]
     },
     "execution_count": 113,
     "metadata": {},
     "output_type": "execute_result"
    }
   ],
   "source": [
    "#Normalizing our Data\n",
    "\n",
    "from sklearn import preprocessing\n",
    "x = preprocessing.StandardScaler().fit(X).transform(X)\n",
    "x[0:5]"
   ]
  },
  {
   "cell_type": "code",
   "execution_count": 114,
   "id": "59cde5d9",
   "metadata": {},
   "outputs": [
    {
     "data": {
      "text/plain": [
       "array([1, 1, 1, 1, 1, 1, 0, 0, 0, 0, 0, 0, 0, 0, 0, 0, 0, 0, 0, 0, 0, 0,\n",
       "       0, 0, 0, 0, 0, 0, 0, 0, 0, 0, 0, 1, 0, 0, 0, 0, 0, 0, 0, 0, 0, 0,\n",
       "       0, 0, 0, 0, 0, 0, 0, 0, 0, 0, 0, 0, 0, 0, 0, 0, 0, 0, 1, 0, 0, 0,\n",
       "       0, 0, 0, 0, 0, 1, 0, 0, 0, 0, 0, 0, 0, 0, 0, 0, 1, 0, 0, 0, 0, 0,\n",
       "       0, 0, 0, 0, 0, 0, 0, 0, 0, 0, 0, 0, 0, 0, 0, 0, 0, 0, 0, 0, 0, 0,\n",
       "       0, 0, 0, 0, 0, 0, 0, 0, 1, 0, 1, 0, 0, 0, 0, 0, 0, 0, 0, 0, 0, 0,\n",
       "       0, 0, 0, 0, 0, 0, 0, 0, 0, 0, 0, 0, 0, 0, 0, 0, 0, 0, 0, 0, 0, 1,\n",
       "       0, 0, 0, 1, 0, 0, 0, 0, 0, 0, 0, 0, 0, 0, 0, 0, 0, 0, 0, 0, 0, 0,\n",
       "       0, 0, 0, 0, 0, 0, 0, 0, 0, 0, 0, 0, 0, 0, 0, 0, 0, 0, 0, 0, 0, 0,\n",
       "       0, 0, 0, 0, 1, 0, 0, 0, 0, 0, 0, 0, 0, 0, 0, 0, 0, 0, 0, 0, 0, 0,\n",
       "       0, 0, 0, 0, 0, 0, 0, 1, 0, 0, 0, 0, 0, 0, 0, 0, 0, 0, 0, 0, 0, 0,\n",
       "       0, 0, 0, 0, 0, 0, 0, 0, 0, 0, 0, 0, 0, 0, 0, 0, 0, 0, 0, 0, 0, 0,\n",
       "       0, 0, 0, 0, 0, 0, 0, 0, 0, 0, 0, 0, 0, 0, 0, 0, 0, 0, 0, 0, 0, 0,\n",
       "       0, 0, 0, 0, 0, 0, 0, 0, 0, 0, 0, 0, 0, 0, 0, 0, 0, 0, 0, 0, 0, 0,\n",
       "       0, 0, 0, 0, 0, 0, 0, 0, 0, 0, 0, 0, 0, 0, 0, 0, 0, 0, 0, 0, 0, 0,\n",
       "       0, 0, 0, 0, 0, 0, 0, 0, 0, 0, 0, 0, 0, 0, 0, 0, 0, 0, 0, 0, 0, 0,\n",
       "       0, 0, 0, 1, 1, 1, 1, 1, 1, 1, 1, 1, 1, 1, 1, 1, 1, 1, 1, 1, 1, 1,\n",
       "       1, 1, 0, 1, 1, 1, 1, 1, 1, 1, 1, 1, 1, 1, 1, 1, 1, 1, 1, 1, 1, 1,\n",
       "       1, 1, 0, 1, 1, 1, 1, 1, 1, 1, 1, 1, 1, 1, 1, 1, 1, 1, 1, 1, 1, 1,\n",
       "       1, 1, 0, 1, 1, 1, 1, 1, 1, 1, 1, 1, 1, 1, 1, 1, 1, 1, 1, 1, 1, 1,\n",
       "       1, 1, 0, 1, 1, 1, 1, 1, 1, 1, 1, 1, 1, 1, 1, 1, 1, 1, 1, 1, 1, 1,\n",
       "       1, 1, 0, 1, 1, 1, 1, 1, 1, 1, 1, 1, 1, 1, 1, 1, 1, 1, 1, 1, 1, 1,\n",
       "       1, 1, 1, 1, 1, 1, 1, 1, 1, 1, 1, 1, 1, 1])"
      ]
     },
     "execution_count": 114,
     "metadata": {},
     "output_type": "execute_result"
    }
   ],
   "source": [
    "Y = df['Churn'].values.tolist()\n",
    "y= np.array(Y)\n",
    "y"
   ]
  },
  {
   "cell_type": "code",
   "execution_count": 115,
   "id": "5f8358d6",
   "metadata": {},
   "outputs": [
    {
     "name": "stdout",
     "output_type": "stream",
     "text": [
      "Shape of Test data (100, 3)\n",
      "Shape of Train data (398, 3)\n"
     ]
    }
   ],
   "source": [
    "from sklearn.model_selection import train_test_split\n",
    "X_train, X_test, y_train, y_test = train_test_split( x, y, test_size=0.2, random_state=4)\n",
    "print('Shape of Test data ' + str(X_test.shape))\n",
    "print('Shape of Train data ' + str(X_train.shape))"
   ]
  },
  {
   "cell_type": "code",
   "execution_count": 116,
   "id": "d572f55c",
   "metadata": {},
   "outputs": [
    {
     "data": {
      "text/plain": [
       "LogisticRegression(C=0.01, solver='liblinear')"
      ]
     },
     "execution_count": 116,
     "metadata": {},
     "output_type": "execute_result"
    }
   ],
   "source": [
    "from sklearn.linear_model import LogisticRegression\n",
    "from sklearn.metrics import confusion_matrix\n",
    "LR = LogisticRegression(C=0.01, solver='liblinear').fit(X_train,y_train)\n",
    "LR"
   ]
  },
  {
   "cell_type": "code",
   "execution_count": 117,
   "id": "23d69a0b",
   "metadata": {},
   "outputs": [
    {
     "data": {
      "text/plain": [
       "array([0, 0, 0, 0, 0, 0, 0, 0, 1, 0, 0, 0, 0, 0, 0, 0, 0, 1, 0, 0, 0, 0,\n",
       "       0, 0, 0, 0, 0, 0, 0, 0, 0, 0, 0, 0, 1, 0, 0, 0, 0, 0, 0, 0, 0, 0,\n",
       "       0, 1, 0, 0, 0, 0, 0, 0, 0, 0, 0, 0, 0, 0, 0, 0, 0, 0, 0, 1, 0, 0,\n",
       "       0, 0, 0, 0, 0, 1, 0, 0, 0, 0, 1, 0, 1, 0, 0, 0, 0, 0, 0, 1, 0, 0,\n",
       "       0, 0, 0, 0, 0, 0, 0, 0, 0, 0, 0, 0])"
      ]
     },
     "execution_count": 117,
     "metadata": {},
     "output_type": "execute_result"
    }
   ],
   "source": [
    "yhat = LR.predict(X_test)\n",
    "yhat"
   ]
  },
  {
   "cell_type": "code",
   "execution_count": 118,
   "id": "932bc2a7",
   "metadata": {},
   "outputs": [
    {
     "data": {
      "text/plain": [
       "0.8043478260869565"
      ]
     },
     "execution_count": 118,
     "metadata": {},
     "output_type": "execute_result"
    }
   ],
   "source": [
    "from sklearn.metrics import jaccard_score\n",
    "jaccard_score(y_test, yhat,pos_label=0)"
   ]
  },
  {
   "cell_type": "code",
   "execution_count": 119,
   "id": "1b22625e",
   "metadata": {},
   "outputs": [
    {
     "name": "stdout",
     "output_type": "stream",
     "text": [
      "[[ 8 17]\n",
      " [ 1 74]]\n"
     ]
    }
   ],
   "source": [
    "from sklearn.metrics import classification_report, confusion_matrix\n",
    "import itertools\n",
    "def plot_confusion_matrix(cm, classes,\n",
    "                          normalize=False,\n",
    "                          title='Confusion matrix',\n",
    "                          cmap=plt.cm.Blues):\n",
    "    \"\"\"\n",
    "    This function prints and plots the confusion matrix.\n",
    "    Normalization can be applied by setting `normalize=True`.\n",
    "    \"\"\"\n",
    "    if normalize:\n",
    "        cm = cm.astype('float') / cm.sum(axis=1)[:, np.newaxis]\n",
    "        print(\"Normalized confusion matrix\")\n",
    "    else:\n",
    "        print('Confusion matrix, without normalization')\n",
    "\n",
    "    print(cm)\n",
    "\n",
    "    plt.imshow(cm, interpolation='nearest', cmap=cmap)\n",
    "    plt.title(title)\n",
    "    plt.colorbar()\n",
    "    tick_marks = np.arange(len(classes))\n",
    "    plt.xticks(tick_marks, classes, rotation=45)\n",
    "    plt.yticks(tick_marks, classes)\n",
    "\n",
    "    fmt = '.2f' if normalize else 'd'\n",
    "    thresh = cm.max() / 2.\n",
    "    for i, j in itertools.product(range(cm.shape[0]), range(cm.shape[1])):\n",
    "        plt.text(j, i, format(cm[i, j], fmt),\n",
    "                 horizontalalignment=\"center\",\n",
    "                 color=\"white\" if cm[i, j] > thresh else \"black\")\n",
    "\n",
    "    plt.tight_layout()\n",
    "    plt.ylabel('True label')\n",
    "    plt.xlabel('Predicted label')\n",
    "print(confusion_matrix(y_test, yhat, labels=[1,0]))"
   ]
  },
  {
   "cell_type": "code",
   "execution_count": 120,
   "id": "8b08e918",
   "metadata": {},
   "outputs": [
    {
     "name": "stdout",
     "output_type": "stream",
     "text": [
      "Confusion matrix, without normalization\n",
      "[[ 8 17]\n",
      " [ 1 74]]\n"
     ]
    },
    {
     "data": {
      "image/png": "[encoded data removed]",
      "text/plain": [
       "<Figure size 432x288 with 2 Axes>"
      ]
     },
     "metadata": {
      "needs_background": "light"
     },
     "output_type": "display_data"
    }
   ],
   "source": [
    "# Compute confusion matrix\n",
    "cnf_matrix = confusion_matrix(y_test, yhat, labels=[1,0])\n",
    "np.set_printoptions(precision=2)\n",
    "\n",
    "\n",
    "# Plot non-normalized confusion matrix\n",
    "plt.figure()\n",
    "plot_confusion_matrix(cnf_matrix, classes=['churn=1','churn=0'],normalize= False,  title='Confusion matrix')"
   ]
  },
  {
   "cell_type": "code",
   "execution_count": 102,
   "id": "089ad94c",
   "metadata": {},
   "outputs": [
    {
     "name": "stdout",
     "output_type": "stream",
     "text": [
      "              precision    recall  f1-score   support\n",
      "\n",
      "           0       0.81      0.99      0.89        75\n",
      "           1       0.89      0.32      0.47        25\n",
      "\n",
      "    accuracy                           0.82       100\n",
      "   macro avg       0.85      0.65      0.68       100\n",
      "weighted avg       0.83      0.82      0.79       100\n",
      "\n"
     ]
    }
   ],
   "source": [
    "print (classification_report(y_test, yhat))\n"
   ]
  },
  {
   "cell_type": "code",
   "execution_count": null,
   "id": "a3ea1d12",
   "metadata": {},
   "outputs": [],
   "source": []
  }
 ],
 "metadata": {
  "kernelspec": {
   "display_name": "Python 3",
   "language": "python",
   "name": "python3"
  },
  "language_info": {
   "codemirror_mode": {
    "name": "ipython",
    "version": 3
   },
   "file_extension": ".py",
   "mimetype": "text/x-python",
   "name": "python",
   "nbconvert_exporter": "python",
   "pygments_lexer": "ipython3",
   "version": "3.8.8"
  }
 },
 "nbformat": 4,
 "nbformat_minor": 5
}
